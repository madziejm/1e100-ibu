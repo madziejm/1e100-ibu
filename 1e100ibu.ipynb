{
  "nbformat": 4,
  "nbformat_minor": 0,
  "metadata": {
    "colab": {
      "name": "1e100ibu.ipynb",
      "provenance": [],
      "collapsed_sections": [
        "38ztJX3eRuqI"
      ],
      "include_colab_link": true
    },
    "kernelspec": {
      "name": "python3",
      "display_name": "Python 3"
    },
    "language_info": {
      "name": "python"
    },
    "accelerator": "GPU"
  },
  "cells": [
    {
      "cell_type": "markdown",
      "metadata": {
        "id": "view-in-github",
        "colab_type": "text"
      },
      "source": [
        "<a href=\"https://colab.research.google.com/github/madziejm/1e100-ibu/blob/master/1e100ibu.ipynb\" target=\"_parent\"><img src=\"https://colab.research.google.com/assets/colab-badge.svg\" alt=\"Open In Colab\"/></a>"
      ]
    },
    {
      "cell_type": "markdown",
      "source": [
        "#### Dependencies siorbing"
      ],
      "metadata": {
        "id": "CT48xPyXJHy9"
      }
    },
    {
      "cell_type": "code",
      "source": [
        "import torchtext\n",
        "import io\n",
        "from torchtext.vocab import build_vocab_from_iterator\n",
        "from torchtext.data import get_tokenizer\n",
        "\n",
        "import torch\n",
        "\n",
        "dev = 'cuda' if torch.cuda.is_available else 'cpu'\n",
        "# dev = 'cpu'\n",
        "print(f'dev = {dev}')"
      ],
      "metadata": {
        "id": "Sl9RJDTxJOTY",
        "colab": {
          "base_uri": "https://localhost:8080/"
        },
        "outputId": "c1749b36-7991-43ab-f7bc-6454dde1d526"
      },
      "execution_count": null,
      "outputs": [
        {
          "output_type": "stream",
          "name": "stdout",
          "text": [
            "dev = cuda\n"
          ]
        }
      ]
    },
    {
      "cell_type": "code",
      "source": [
        "!pip install icecream\n",
        "from icecream import ic"
      ],
      "metadata": {
        "colab": {
          "base_uri": "https://localhost:8080/"
        },
        "id": "Yet9JpBt8kcx",
        "outputId": "e0b3da21-3b01-48f4-8c1f-80d4b2153f61"
      },
      "execution_count": null,
      "outputs": [
        {
          "output_type": "stream",
          "name": "stdout",
          "text": [
            "Collecting icecream\n",
            "  Downloading icecream-2.1.1-py2.py3-none-any.whl (8.1 kB)\n",
            "Collecting asttokens>=2.0.1\n",
            "  Downloading asttokens-2.0.5-py2.py3-none-any.whl (20 kB)\n",
            "Collecting colorama>=0.3.9\n",
            "  Downloading colorama-0.4.4-py2.py3-none-any.whl (16 kB)\n",
            "Requirement already satisfied: pygments>=2.2.0 in /usr/local/lib/python3.7/dist-packages (from icecream) (2.6.1)\n",
            "Collecting executing>=0.3.1\n",
            "  Downloading executing-0.8.2-py2.py3-none-any.whl (16 kB)\n",
            "Requirement already satisfied: six in /usr/local/lib/python3.7/dist-packages (from asttokens>=2.0.1->icecream) (1.15.0)\n",
            "Installing collected packages: executing, colorama, asttokens, icecream\n",
            "Successfully installed asttokens-2.0.5 colorama-0.4.4 executing-0.8.2 icecream-2.1.1\n"
          ]
        }
      ]
    },
    {
      "cell_type": "markdown",
      "source": [
        "#### Dataset siorbing"
      ],
      "metadata": {
        "id": "JcpSzAJmFV56"
      }
    },
    {
      "cell_type": "code",
      "execution_count": null,
      "metadata": {
        "colab": {
          "base_uri": "https://localhost:8080/"
        },
        "id": "TZ8cumFHEEQd",
        "outputId": "d80ce2e0-d64a-40ea-b650-c55951969bc6"
      },
      "outputs": [
        {
          "output_type": "stream",
          "name": "stdout",
          "text": [
            "Downloading...\n",
            "From: https://drive.google.com/uc?id=12tEEYQcHZtg5aWyfIiWWVIDAJNT-5d_T\n",
            "To: /content/SNAP-Ratebeer.txt\n",
            "100% 1.74G/1.74G [00:18<00:00, 93.4MB/s]\n",
            "Dataset head (trailing newline makes entry end): \n",
            "beer/name: John Harvards Simcoe IPA\n",
            "beer/beerId: 63836\n",
            "beer/brewerId: 8481\n",
            "beer/ABV: 5.4\n",
            "beer/style: India Pale Ale &#40;IPA&#41;\n",
            "review/appearance: 4/5\n",
            "review/aroma: 6/10\n",
            "review/palate: 3/5\n",
            "review/taste: 6/10\n",
            "review/overall: 13/20\n",
            "review/time: 1157587200\n",
            "review/profileName: hopdog\n",
            "review/text: On tap at the Springfield, PA location. Poured a deep and cloudy orange (almost a copper) color with a small sized off white head. Aromas or oranges and all around citric. Tastes of oranges, light caramel and a very light grapefruit finish. I too would not believe the 80+ IBUs - I found this one to have a very light bitterness with a medium sweetness to it. Light lacing left on the glass.\n",
            "\n",
            "beer/name: John Harvards Simcoe IPA\n",
            "beer/beerId: 63836\n"
          ]
        }
      ],
      "source": [
        "RATEBEER_FILE = '/content/SNAP-Ratebeer.txt'\n",
        "! export RATEBEER_FILE='/content/SNAP-Ratebeer.txt'\n",
        "! [ -e $RATEBEER_FILE ] || gdown --id '12tEEYQcHZtg5aWyfIiWWVIDAJNT-5d_T' # https://drive.google.com/file/d/12tEEYQcHZtg5aWyfIiWWVIDAJNT-5d_T/view?usp=sharing\n",
        "! echo \"Dataset head (trailing newline makes entry end): \"\n",
        "! head -n 16 $RATEBEER_FILE\n",
        "! iconv -f ISO-8859-1 -t UTF-8 $RATEBEER_FILE -o {RATEBEER_FILE}.new && mv {RATEBEER_FILE}.new $RATEBEER_FILE"
      ]
    },
    {
      "cell_type": "markdown",
      "source": [
        "### Vocab representation"
      ],
      "metadata": {
        "id": "hAp1vxv0JBmy"
      }
    },
    {
      "cell_type": "code",
      "source": [
        "UNKNOWN_TOKEN = \"<unk>\"\n",
        "\n",
        "tokenizer = get_tokenizer('basic_english')"
      ],
      "metadata": {
        "id": "DBTFHdlGJQ_u"
      },
      "execution_count": null,
      "outputs": []
    },
    {
      "cell_type": "code",
      "source": [
        "MAX_REVIEWS=10\n",
        "def create_vocab(dataset_path, max_reviews=float('inf')):\n",
        "  def yield_tokens():\n",
        "    review_count = 0\n",
        "    with io.open(dataset_path, encoding='utf-8') as f:\n",
        "      for line in f:\n",
        "        review_text_prefix = 'review/text: '\n",
        "        if line.startswith(review_text_prefix):\n",
        "          line = line[len(review_text_prefix):] # drop prefix\n",
        "          review_count += 1\n",
        "        #   print(review_count)\n",
        "          if review_count >= max_reviews:\n",
        "            #   raise StopIteration\n",
        "            return\n",
        "          yield tokenizer(line) # TODO remove punctuation\n",
        "          # line = line.strip().lower().split() \n",
        "  vocab = build_vocab_from_iterator(yield_tokens(), specials=[UNKNOWN_TOKEN])\n",
        "  vocab.set_default_index(vocab[UNKNOWN_TOKEN])\n",
        "  return vocab"
      ],
      "metadata": {
        "id": "2W2kAaEJI_iI"
      },
      "execution_count": null,
      "outputs": []
    },
    {
      "cell_type": "code",
      "source": [
        "vocab = create_vocab(RATEBEER_FILE, MAX_REVIEWS)"
      ],
      "metadata": {
        "id": "LQJqC6WDcYyQ"
      },
      "execution_count": null,
      "outputs": []
    },
    {
      "cell_type": "code",
      "source": [
        "# from google.colab import drive\n",
        "# torch.save(vocab, 'vocab.pth')\n",
        "# drive.mount('/drive')\n",
        "# !cp vocab.pth '/drive/MyDrive/Colab Notebooks/1e100ibu'\n"
      ],
      "metadata": {
        "id": "ClLM3hVCL96o",
        "colab": {
          "base_uri": "https://localhost:8080/"
        },
        "outputId": "7208bcb9-d07f-4475-f67a-05b2dce5d32c"
      },
      "execution_count": null,
      "outputs": [
        {
          "output_type": "stream",
          "name": "stdout",
          "text": [
            "Mounted at /drive\n"
          ]
        }
      ]
    },
    {
      "cell_type": "code",
      "source": [
        "from google.colab import drive\n",
        "drive.mount('/drive')\n",
        "vocab = torch.load('/drive/MyDrive/Colab Notebooks/1e100ibu/vocab.pth')"
      ],
      "metadata": {
        "colab": {
          "base_uri": "https://localhost:8080/"
        },
        "id": "t7mqsLvCG-UN",
        "outputId": "ee291d33-143b-445f-f7c6-cf1abd4205be"
      },
      "execution_count": null,
      "outputs": [
        {
          "output_type": "stream",
          "name": "stdout",
          "text": [
            "Mounted at /drive\n"
          ]
        }
      ]
    },
    {
      "cell_type": "markdown",
      "source": [
        "##### Test `vocab`"
      ],
      "metadata": {
        "id": "JJkKGVlznDad"
      }
    },
    {
      "cell_type": "code",
      "source": [
        "review = 'On tap at the Springfield, PA location. Poured a deep and cloudy orange (almost a copper) color with a small sized off white head. Aromas or oranges and all around citric. Tastes of oranges, light caramel and a very light grapefruit finish. I too would not believe the 80+ IBUs - I found this one to have a very light bitterness with a medium sweetness to it. Light lacing left on the glass.'\n",
        "ided_review = vocab.lookup_indices(tokenizer(review))\n",
        "print(f'id-ed review: {ided_review}')\n",
        "word_count = len(vocab.get_itos())\n",
        "print(f'word count: {word_count}')\n",
        "print(f'most common words: {vocab.get_itos()[:30]}')\n",
        "# try whether we can get an id for unknown token (which will be probably 0 as it's index of unknown token)\n",
        "print(f'{vocab.lookup_indices([\"lubie\", \"hamburgefonsz\"])}')\n",
        "# TODO remove keep only n most common words"
      ],
      "metadata": {
        "colab": {
          "base_uri": "https://localhost:8080/"
        },
        "id": "CghoFLGMnHbF",
        "outputId": "29c13e2f-f256-4672-c0f0-59f744b3e241"
      },
      "execution_count": null,
      "outputs": [
        {
          "output_type": "stream",
          "name": "stdout",
          "text": [
            "id-ed review: [8, 29, 24, 4, 11, 2, 13, 22, 1, 28, 3, 63, 5, 135, 50, 53, 110, 3, 62, 54, 19, 10, 3, 52, 51, 34, 36, 12, 1, 38, 194, 86, 5, 109, 113, 132, 1, 92, 7, 86, 2, 6, 60, 5, 3, 17, 6, 70, 65, 1, 16, 235, 243, 84, 121, 4, 55, 73, 101, 16, 44, 14, 49, 23, 45, 3, 17, 6, 39, 10, 3, 48, 227, 23, 21, 1, 6, 33, 47, 8, 4, 69, 1]\n",
            "word count: 247\n",
            "most common words: ['<unk>', '.', ',', 'a', 'the', 'and', 'light', 'of', 'on', 'was', 'with', 'springfield', 'head', 'pa', 'this', 'aroma', 'i', 'very', 'as', 'color', 'had', 'it', 'location', 'to', 'at', 'beer', 'in', 'me', 'poured', 'tap']\n",
            "[0, 0]\n"
          ]
        }
      ]
    },
    {
      "cell_type": "markdown",
      "source": [
        "Test gradients"
      ],
      "metadata": {
        "id": "fxqV0tl4rnO3"
      }
    },
    {
      "cell_type": "code",
      "source": [
        "# values = torch.tensor([1.0, 2.0, 3.0], requires_grad=True)\n",
        "# l2_loss = values.square().sum()\n",
        "# # l2_loss.zero_grad()\n",
        "# l2_loss.backward()\n",
        "\n",
        "# print(values.grad)"
      ],
      "metadata": {
        "colab": {
          "base_uri": "https://localhost:8080/"
        },
        "id": "PG0oYrrgn9S7",
        "outputId": "81882e3a-9a06-4f67-c6a3-b83aad34e1ea"
      },
      "execution_count": null,
      "outputs": [
        {
          "output_type": "stream",
          "name": "stdout",
          "text": [
            "tensor([2., 4., 6.])\n"
          ]
        }
      ]
    },
    {
      "cell_type": "markdown",
      "source": [
        "## yyyy"
      ],
      "metadata": {
        "id": "7Wm7d-2lwgSq"
      }
    },
    {
      "cell_type": "code",
      "source": [
        "aspects = ['appearance', 'aroma', 'palate', 'taste', 'overall']\n",
        "aspect_count = len(aspects)"
      ],
      "metadata": {
        "id": "eUoc6febB8vQ"
      },
      "execution_count": null,
      "outputs": []
    },
    {
      "cell_type": "code",
      "source": [
        "# theta = torch.empty(word_count, aspect_count, requires_grad=True)\n",
        "theta = torch.rand((word_count, aspect_count), requires_grad=True)\n",
        "# if dev == 'cuda':\n",
        "#     theta = theta\n",
        "with torch.no_grad():\n",
        "    theta *= 0.9\n",
        "#   torch.nn.init.kaiming_uniform_(theta)\n",
        "  # enforce 1 initialization on aspect name (page 4)\n",
        "    aspect_ids = vocab.lookup_indices(aspects)\n",
        "    theta[aspect_ids, :] = 1\n",
        "\n",
        "# phi = torch.rand((word_count, , aspect_count), requires_grad=True)\n",
        "\n",
        "aspect_rating_count = [6, 11, 6, 11, 21]\n",
        "phis = [torch.rand((word_count, aspect_rating_count[i]), requires_grad=True) for i in range(aspect_count)]\n",
        "\n",
        "# if dev == 'cuda':\n",
        "#     phis = [phi.cuda() for phi in phis]\n",
        "\n",
        "with torch.no_grad():\n",
        "    # normalize that sum across all words is 1 for a given aspect (eq. 7)\n",
        "    phis = [phi / phi.sum(dim=0) for phi in phis]\n",
        "for phi in phis:\n",
        "    phi.requires_grad = True\n"
      ],
      "metadata": {
        "id": "VGjeZUFLsZ5e"
      },
      "execution_count": null,
      "outputs": []
    },
    {
      "cell_type": "code",
      "source": [
        "def review_text2ids(review_text: str):\n",
        "  return vocab.lookup_indices(tokenizer(review_text))\n",
        "\n",
        "# def review_text2weights(review_text: str):\n",
        "#   ids = review_text2ids(review_text)\n",
        "#   thetas = theta[ids]\n",
        "#   phis   = phi[ids]\n",
        "#   return thetas, phis\n",
        "\n",
        "# def review_likelihood(review_text: str):\n",
        "#   theta_weight, phi_weight = 1.0, 1.0\n",
        "#   thetas, phis = review_text2weights(review_text)\n",
        "#   return torch.mean(\n",
        "#       theta_weight * thetas +\n",
        "#       phi_weight * phis\n",
        "#   )"
      ],
      "metadata": {
        "id": "qbpx6lSOwfkg"
      },
      "execution_count": null,
      "outputs": []
    },
    {
      "cell_type": "code",
      "source": [
        "review_likelihood('Ich trinke Bier gern')"
      ],
      "metadata": {
        "id": "-7FWEmRcxGuf"
      },
      "execution_count": null,
      "outputs": []
    },
    {
      "cell_type": "code",
      "source": [
        "review_likelihood('Amazing hops and taste')"
      ],
      "metadata": {
        "id": "JEGHzhrmMea4"
      },
      "execution_count": null,
      "outputs": []
    },
    {
      "cell_type": "code",
      "source": [
        "review_likelihood('appearance aroma palate taste overall')"
      ],
      "metadata": {
        "id": "HE-sIjQrLRvA"
      },
      "execution_count": null,
      "outputs": []
    },
    {
      "cell_type": "code",
      "source": [
        "print(theta)"
      ],
      "metadata": {
        "id": "MkkI6bVbLk0A"
      },
      "execution_count": null,
      "outputs": []
    },
    {
      "cell_type": "code",
      "source": [
        "vocab.lookup_indices(aspects)"
      ],
      "metadata": {
        "id": "NU5p9ZeMLnz8"
      },
      "execution_count": null,
      "outputs": []
    },
    {
      "cell_type": "markdown",
      "source": [
        "#### review example"
      ],
      "metadata": {
        "id": "38ztJX3eRuqI"
      }
    },
    {
      "cell_type": "code",
      "source": [
        "#     \"\"\"\n",
        "#     get review like this\n",
        "    \n",
        "#     beer/name: John Harvards Simcoe IPA\n",
        "#     beer/beerId: 63836\n",
        "#     beer/brewerId: 8481\n",
        "#     beer/ABV: 5.4\n",
        "#     beer/style: India Pale Ale &#40;IPA&#41;\n",
        "#     review/appearance: 4/5\n",
        "#     review/aroma: 6/10\n",
        "#     review/palate: 3/5\n",
        "#     review/taste: 6/10\n",
        "#     review/overall: 13/20\n",
        "#     review/time: 1157587200\n",
        "#     review/profileName: hopdog\n",
        "#     review/text: On tap at the Springfield, PA location. Poured a deep and cloudy orange (almost a copper) color with a small sized off white head. Aromas or oranges and all around citric. Tastes of oranges, light caramel and a very light grapefruit finish. I too would not believe the 80+ IBUs - I found this one to have a very light bitterness with a medium sweetness to it. Light lacing left on the glass.\n",
        "    \n",
        "#     return review text as list of sentences and aspect ratings\n",
        "#     \"\"\""
      ],
      "metadata": {
        "id": "1rYfSug_5Vlf"
      },
      "execution_count": null,
      "outputs": []
    },
    {
      "cell_type": "markdown",
      "source": [
        "### Implementation of $(1)$"
      ],
      "metadata": {
        "id": "yOc_2b-E4o0c"
      }
    },
    {
      "cell_type": "code",
      "source": [
        "# tokenizer = get_tokenizer('basic_english')\n",
        "\n",
        "def yield_ided_review(dataset_path=RATEBEER_FILE, max_lines=MAX_REVIEWS):\n",
        "# def yield_ided_review(dataset_path=RATEBEER_FILE, max_lines=1000000000):\n",
        "    with io.open(dataset_path, encoding='utf-8') as f:\n",
        "        counter = 0\n",
        "        review_lines = []\n",
        "        for line, _ in zip(f, range(max_lines)):\n",
        "            if counter < 13:\n",
        "                review_lines.append(line)\n",
        "                counter += 1\n",
        "            else:\n",
        "                review_aspects_scores = review_lines[5:10]\n",
        "                review_aspects_scores = list(map(lambda s: int(s.split(': ')[1].split('/')[0]), review_aspects_scores))\n",
        "                \n",
        "                # wywalamy review/text\n",
        "                review_sentences = review_lines[12].lower()[len(\"review/text: \"):]\n",
        "                if line.startswith(\"UPDATED:\"):\n",
        "                    review_sentences = review_sentences[len(\"UPDATED: APR 29, 2008\"):] # drop prefix\n",
        "                \n",
        "                review_sentences = review_sentences.split('.')\n",
        "                review_sentences = list(filter(lambda l: len(l) != 0, (map(review_text2ids, review_sentences))))\n",
        "                result = (review_sentences, review_aspects_scores)\n",
        "                # raise BaseException\n",
        "                yield (review_sentences, review_aspects_scores) # TODO remove punctuation\n",
        "                # line = line.strip().split()\n",
        "                counter = 0\n",
        "                review_lines = []\n"
      ],
      "metadata": {
        "id": "3FhhxmWw4rGB"
      },
      "execution_count": null,
      "outputs": []
    },
    {
      "cell_type": "code",
      "source": [
        "# ided_reviews = yield_ided_reviews(max_lines=int(2e6))"
      ],
      "metadata": {
        "id": "daY1ZHl4-glT"
      },
      "execution_count": null,
      "outputs": []
    },
    {
      "cell_type": "code",
      "source": [
        "def sentence_aspects_likelihood_theta(sen_ids):\n",
        "    theta_theta = theta[sen_ids]\n",
        "    theta_score = theta_theta\n",
        "    return theta_score\n",
        "\n",
        "def sentence_aspects_likelihood_phi(sen_ids):\n",
        "    phi_scores = [phis[aspect_idx][sen_ids, :] for aspect_idx in range(aspect_count)]\n",
        "    return phi_scores\n",
        "\n",
        "# def sentence_aspects_likelihood(sen_ids):\n",
        "#     theta_score = sentence_aspects_likelihood_theta(sen_ids)\n",
        "#     phi_scores = sentence_aspects_likelihood_phi(sen_ids)\n",
        "#     ic(theta_score, phi_scores)\n",
        "\n",
        "    # score = torch.exp( + sentence_aspects_likelihood_phi(sen_ids, ratings))\n",
        "    # return score / score.sum()\n"
      ],
      "metadata": {
        "id": "-BbREMkrBEph"
      },
      "execution_count": null,
      "outputs": []
    },
    {
      "cell_type": "code",
      "source": [
        "EPOCH_COUNT = 5\n",
        "exit = False\n",
        "for _ in range(EPOCH_COUNT):\n",
        "    if exit:\n",
        "        break\n",
        "    for i, (review_sentences, review_aspects_scores) in enumerate(yield_ided_review(max_lines=int(50))):\n",
        "    # for i, (review_sentences, review_aspects_scores) in enumerate(yield_ided_review(max_lines=int(2e6))):\n",
        "        if exit:\n",
        "            break\n",
        "        print(i)\n",
        "        for sen_ids in review_sentences:\n",
        "            if exit:\n",
        "                break\n",
        "            try:\n",
        "                theta_scores = sentence_aspects_likelihood_theta(sen_ids)\n",
        "                aspect_pred = int(torch.argmax(torch.nn.functional.softmax(theta_scores.sum(0), dim=-1)).item())\n",
        "\n",
        "                ic(vocab.lookup_tokens(sen_ids))\n",
        "\n",
        "                \n",
        "                ic(aspect_pred, aspects[aspect_pred])\n",
        "\n",
        "                # ic(theta_scores.sum(0).shape) # TODO remove me\n",
        "\n",
        "                aspect_rating = review_aspects_scores[aspect_pred]\n",
        "                # ic(aspect_rating)\n",
        "                # print(sentence_aspects_likelihood_phi(sen_ids)[aspect_pred])\n",
        "                # print(sentence_aspects_likelihood_phi(sen_ids)[aspect_pred][:, aspect_rating])\n",
        "                # print(sentence_aspects_likelihood_phi(sen_ids)[aspect_pred][:, 4])\n",
        "                phi_score = sentence_aspects_likelihood_phi(sen_ids)[aspect_pred][:, aspect_rating]\n",
        "                # ic(phi_score)\n",
        "\n",
        "                # raise BaseException\n",
        "\n",
        "                ll = torch.log(theta_scores[:, aspect_pred] + phi_score).sum()\n",
        "                # ic(ll)\n",
        "\n",
        "                l2_regularization_loss = torch.nn.functional.mse_loss(input=theta, target=torch.zeros_like(theta), reduction='mean') + torch.nn.functional.mse_loss(input=theta, target=torch.zeros_like(theta), reduction='mean')\n",
        "\n",
        "                # ic(l2_regularization_loss)\n",
        "                \n",
        "                # ic(torch.hstack(list(torch.square(phi).sum() for phi in phis)).sum())\n",
        "                \n",
        "                loss = -ll + l2_regularization_loss * 0.1\n",
        "                loss.backward()\n",
        "                # ic(theta.grad)\n",
        "                if 0 == i % 100:\n",
        "                    ic(ll)\n",
        "                    ic(l2_regularization_loss)\n",
        "                    ic(loss)\n",
        "                    print()\n",
        "\n",
        "                with torch.no_grad():\n",
        "                    theta -= 0.00001 * theta.grad\n",
        "                    phis = [phi - 0.00001 * phi.grad if phi.grad != None else phi for phi in phis]\n",
        "                    theta.grad = torch.zeros_like(theta.grad)\n",
        "                    for phi in phis: phi.grad = torch.zeros_like(phi)\n",
        "            except KeyboardInterrupt:\n",
        "                exit = True\n"
      ],
      "metadata": {
        "colab": {
          "base_uri": "https://localhost:8080/"
        },
        "id": "UR2BLDFGCNdi",
        "outputId": "74e386a9-7d63-41e4-b279-c8e3f5585889"
      },
      "execution_count": null,
      "outputs": [
        {
          "output_type": "stream",
          "name": "stderr",
          "text": [
            "ic| vocab.lookup_tokens(sen_ids): ['on', 'tap', 'at', 'the', 'springfield', ',', 'pa', 'location']\n",
            "ic| aspect_pred: 0, aspects[aspect_pred]: 'appearance'\n"
          ]
        },
        {
          "output_type": "stream",
          "name": "stdout",
          "text": [
            "0\n"
          ]
        },
        {
          "output_type": "stream",
          "name": "stderr",
          "text": [
            "ic| ll: tensor(-6.6337, grad_fn=<SumBackward0>)\n",
            "ic| l2_regularization_loss: tensor(0.5607, grad_fn=<AddBackward0>)\n",
            "ic| loss: tensor(6.6897, grad_fn=<AddBackward0>)\n",
            "ic| vocab.lookup_tokens(sen_ids): ['poured',\n",
            "                                   'a',\n",
            "                                   'deep',\n",
            "                                   'and',\n",
            "                                   'cloudy',\n",
            "                                   'orange',\n",
            "                                   '(',\n",
            "                                   'almost',\n",
            "                                   'a',\n",
            "                                   'copper',\n",
            "                                   ')',\n",
            "                                   'color',\n",
            "                                   'with',\n",
            "                                   'a',\n",
            "                                   'small',\n",
            "                                   'sized',\n",
            "                                   'off',\n",
            "                                   'white',\n",
            "                                   'head']\n",
            "ic"
          ]
        },
        {
          "output_type": "stream",
          "name": "stdout",
          "text": [
            "\n"
          ]
        },
        {
          "output_type": "stream",
          "name": "stderr",
          "text": [
            "| aspect_pred: 0, aspects[aspect_pred]: 'appearance'\n",
            "ic| ll: tensor(-15.9699, grad_fn=<SumBackward0>)\n",
            "ic| l2_regularization_loss: tensor(0.5607, grad_fn=<AddBackward0>)\n",
            "ic| loss: tensor(16.0260, grad_fn=<AddBackward0>)\n",
            "ic| vocab.lookup_tokens(sen_ids): ['aromas', 'or', 'oranges', 'and', 'all', 'around', 'citric']\n",
            "ic| aspect_pred: 2, aspects[aspect_pred]: 'palate'\n",
            "ic| ll: tensor(-5.3487,"
          ]
        },
        {
          "output_type": "stream",
          "name": "stdout",
          "text": [
            "\n"
          ]
        },
        {
          "output_type": "stream",
          "name": "stderr",
          "text": [
            " grad_fn=<SumBackward0>)\n",
            "ic| l2_regularization_loss: tensor(0.5607, grad_fn=<AddBackward0>)\n",
            "ic| loss: tensor(5.4048, grad_fn=<AddBackward0>)\n",
            "ic| vocab.lookup_tokens(sen_ids): ['tastes',\n",
            "                                   'of',\n",
            "                                   'oranges',\n",
            "                                   ',',\n",
            "                                   'light',\n",
            "                                   'caramel',\n",
            "                                   'and',\n",
            "                                   'a',\n",
            "                                   'very',\n",
            "                                   'light',\n",
            "                                   'grapefruit',\n",
            "                                   'finish']\n",
            "ic| aspect_pred: 4, aspects[aspect_pred]: 'overall'\n"
          ]
        },
        {
          "output_type": "stream",
          "name": "stdout",
          "text": [
            "\n"
          ]
        },
        {
          "output_type": "stream",
          "name": "stderr",
          "text": [
            "ic| ll: tensor(-11.8975, grad_fn=<SumBackward0>)\n",
            "ic| l2_regularization_loss: tensor(0.5607, grad_fn=<AddBackward0>)\n",
            "ic| loss: tensor(11.9535, grad_fn=<AddBackward0>)\n",
            "ic| vocab.lookup_tokens(sen_ids): ['i',\n",
            "                                   'too',\n",
            "                                   'would',\n",
            "                                   'not',\n",
            "                                   'believe',\n",
            "                                   'the',\n",
            "                                   '80+',\n",
            "                                   'ibus',\n",
            "                                   '-',\n",
            "                                   'i',\n",
            "                                   'found',\n",
            "                                   'this',\n",
            "                                   'one',\n",
            "                                   'to',\n",
            "                                   'have',\n",
            "                                   'a',\n",
            "                                   'very',\n",
            "                                   'light',\n",
            "                                   'bitterness',\n",
            "                                   "
          ]
        },
        {
          "output_type": "stream",
          "name": "stdout",
          "text": [
            "\n"
          ]
        },
        {
          "output_type": "stream",
          "name": "stderr",
          "text": [
            "'with',\n",
            "                                   'a',\n",
            "                                   'medium',\n",
            "                                   'sweetness',\n",
            "                                   'to',\n",
            "                                   'it']\n",
            "ic| aspect_pred: 4, aspects[aspect_pred]: 'overall'\n",
            "ic| ll: tensor(-20.6295, grad_fn=<SumBackward0>)\n",
            "ic| l2_regularization_loss: tensor(0.5607, grad_fn=<AddBackward0>)\n",
            "ic| loss: tensor(20.6856, grad_fn=<AddBackward0>)\n",
            "ic| vocab.lookup_tokens(sen_ids): ['light', 'lacing', 'left', 'on', 'the', 'glass']\n",
            "ic| aspect_pred: 3, aspects[aspect_pred]: 'taste'\n",
            "ic| ll: "
          ]
        },
        {
          "output_type": "stream",
          "name": "stdout",
          "text": [
            "\n"
          ]
        },
        {
          "output_type": "stream",
          "name": "stderr",
          "text": [
            "tensor(-3.2116, grad_fn=<SumBackward0>)\n",
            "ic| l2_regularization_loss: tensor(0.5607, grad_fn=<AddBackward0>)\n",
            "ic| loss: tensor(3.2676, grad_fn=<AddBackward0>)\n",
            "ic| vocab.lookup_tokens(sen_ids): ['on', 'tap', 'at', 'the', 'john', 'harvards', 'in', 'springfield', 'pa']\n",
            "ic| aspect_pred: 0, aspects[aspect_pred]: 'appearance'\n",
            "ic| vocab.lookup_tokens"
          ]
        },
        {
          "output_type": "stream",
          "name": "stdout",
          "text": [
            "\n",
            "1\n"
          ]
        },
        {
          "output_type": "stream",
          "name": "stderr",
          "text": [
            "(sen_ids): ['pours',\n",
            "                                   'a',\n",
            "                                   'ruby',\n",
            "                                   'red',\n",
            "                                   'amber',\n",
            "                                   'with',\n",
            "                                   'a',\n",
            "                                   'medium',\n",
            "                                   'off',\n",
            "                                   'whie',\n",
            "                                   'creamy',\n",
            "                                   'head',\n",
            "                                   'that',\n",
            "                                   'left',\n",
            "                                   'light',\n",
            "                                   'lacing']\n",
            "ic| aspect_pred: 0, aspects[aspect_pred]: 'appearance'\n",
            "ic| vocab.lookup_tokens(sen_ids): ['aroma', 'of', 'orange', 'and', 'various', 'other', 'citrus']\n",
            "ic| aspect_pred: 4, aspects[aspect_pred]: 'overall'\n",
            "ic| vocab.lookup_tokens(sen_ids): ['a',\n",
            "                                   'little',\n",
            "                                   'light',\n",
            "                                   'for',\n",
            "                                   'what',\n",
            "                                   'i',\n",
            "                                   'was',\n",
            "                                   'expecting',\n",
            "                                   'from',\n",
            "                                   'this',\n",
            "                                   'beers',\n",
            "                                   'aroma']\n",
            "ic| aspect_pred: 2, aspects[aspect_pred]: 'palate'\n",
            "ic| vocab.lookup_tokens(sen_ids): ['expecting', 'more', 'from', 'the', 'simcoe']\n",
            "ic| aspect_pred: 0, aspects[aspect_pred]: 'appearance'\n",
            "ic| vocab.lookup_tokens(sen_ids): ['flavor',\n",
            "                                   'of',\n",
            "                                   'pine',\n",
            "                                   ',',\n",
            "                                   'orange',\n",
            "                                   ',',\n",
            "                                   'grapefruit',\n",
            "                                   'and',\n",
            "                                   'some',\n",
            "                                   'malt',\n",
            "                                   'balance']\n",
            "ic| aspect_pred: 4, aspects[aspect_pred]: 'overall'\n",
            "ic| vocab.lookup_tokens(sen_ids): ['very',\n",
            "                                   'light',\n",
            "                                   'bitterness',\n",
            "                                   'for',\n",
            "                                   'the',\n",
            "                                   '80+',\n",
            "                                   'ibus',\n",
            "                                   'they',\n",
            "                                   'said',\n",
            "                                   'this',\n",
            "                                   'one',\n",
            "                                   'had']\n",
            "ic| aspect_pred: 4, aspects[aspect_pred]: 'overall'\n",
            "ic| vocab.lookup_tokens(sen_ids): ['updated', 'feb', '19', ',', '2003', 'springfield', ',', 'pa']\n",
            "ic| aspect_pred: 0, aspects[aspect_pred]: 'appearance'\n"
          ]
        },
        {
          "output_type": "stream",
          "name": "stdout",
          "text": [
            "2\n"
          ]
        },
        {
          "output_type": "stream",
          "name": "stderr",
          "text": [
            "ic| vocab.lookup_tokens(sen_ids): ['i',\n",
            "                                   \"'\",\n",
            "                                   've',\n",
            "                                   'never',\n",
            "                                   'had',\n",
            "                                   'the',\n",
            "                                   'budvar',\n",
            "                                   'cristal',\n",
            "                                   'but',\n",
            "                                   'this',\n",
            "                                   'is',\n",
            "                                   'exactly',\n",
            "                                   'what',\n",
            "                                   'i',\n",
            "                                   'imagined',\n",
            "                                   'it',\n",
            "                                   'to',\n",
            "                                   'be']\n",
            "ic| aspect_pred: 0, aspects[aspect_pred]: 'appearance'\n",
            "ic| vocab.lookup_tokens(sen_ids): ['a',\n",
            "                                   'clean',\n",
            "                                   'and',\n",
            "                                   'refreshing',\n",
            "                                   ',',\n",
            "                                   'hoppy',\n",
            "                                   'beer',\n",
            "                                   ',',\n",
            "                                   'med',\n",
            "                                   'bodied',\n",
            "                                   'with',\n",
            "                                   'plenty',\n",
            "                                   'of',\n",
            "                                   'flavor']\n",
            "ic| aspect_pred: 4, aspects[aspect_pred]: 'overall'\n",
            "ic| vocab.lookup_tokens(sen_ids): ['this',\n",
            "                                   'beer',\n",
            "                                   \"'\",\n",
            "                                   's',\n",
            "                                   'only',\n",
            "                                   'downfall',\n",
            "                                   'is',\n",
            "                                   'an',\n",
            "                                   'unpleasant',\n",
            "                                   'bitterness',\n",
            "                                   'in',\n",
            "                                   'the',\n",
            "                                   'aftertaste']\n",
            "ic| aspect_pred: 0, aspects[aspect_pred]: 'appearance'\n",
            "ic| vocab.lookup_tokens(sen_ids): ['on', 'tap', 'at', 'the', 'springfield', ',', 'pa', 'location']\n",
            "ic| aspect_pred: 0, aspects[aspect_pred]: 'appearance'\n",
            "ic| ll: tensor(-"
          ]
        },
        {
          "output_type": "stream",
          "name": "stdout",
          "text": [
            "0\n"
          ]
        },
        {
          "output_type": "stream",
          "name": "stderr",
          "text": [
            "6.6314, grad_fn=<SumBackward0>)\n",
            "ic| l2_regularization_loss: tensor(0.5607, grad_fn=<AddBackward0>)\n",
            "ic| loss: tensor(6.6875, grad_fn=<AddBackward0>)\n",
            "ic| vocab.lookup_tokens(sen_ids): ['poured',\n",
            "                                   'a',\n",
            "                                   'deep',\n",
            "                                   'and',\n",
            "                                   'cloudy',\n",
            "                                   'orange',\n",
            "                                   '(',\n",
            "                                   'almost',\n",
            "                                   'a',\n",
            "                                   'copper',\n",
            "                                   ')',\n",
            "                                   'color',\n",
            "                                   'with',\n",
            "                                   'a',\n",
            "                                   'small',\n",
            "                                   'sized',\n",
            "                                   'off',\n",
            "                                   'white',\n",
            "                                   'head"
          ]
        },
        {
          "output_type": "stream",
          "name": "stdout",
          "text": [
            "\n"
          ]
        },
        {
          "output_type": "stream",
          "name": "stderr",
          "text": [
            "']\n",
            "ic| aspect_pred: 0, aspects[aspect_pred]: 'appearance'\n",
            "ic| ll: tensor(-15.9563, grad_fn=<SumBackward0>)\n",
            "ic| l2_regularization_loss: tensor(0.5607, grad_fn=<AddBackward0>)\n",
            "ic| loss: tensor(16.0124, grad_fn=<AddBackward0>)\n",
            "ic| vocab.lookup_tokens(sen_ids): ['aromas', 'or', 'oranges', 'and', 'all', 'around', 'citric']\n",
            "ic| aspect_pred: 2, aspects[aspect_pred]: 'palate'\n",
            "ic| ll: tensor(-5.3482, grad_fn=<SumBackward0>"
          ]
        },
        {
          "output_type": "stream",
          "name": "stdout",
          "text": [
            "\n"
          ]
        },
        {
          "output_type": "stream",
          "name": "stderr",
          "text": [
            ")\n",
            "ic| l2_regularization_loss: tensor(0.5607, grad_fn=<AddBackward0>)\n",
            "ic| loss: tensor(5.4042, grad_fn=<AddBackward0>)\n",
            "ic| vocab.lookup_tokens(sen_ids): ['tastes',\n",
            "                                   'of',\n",
            "                                   'oranges',\n",
            "                                   ',',\n",
            "                                   'light',\n",
            "                                   'caramel',\n",
            "                                   'and',\n",
            "                                   'a',\n",
            "                                   'very',\n",
            "                                   'light',\n",
            "                                   'grapefruit',\n",
            "                                   'finish']\n",
            "ic| aspect_pred: "
          ]
        },
        {
          "output_type": "stream",
          "name": "stdout",
          "text": [
            "\n"
          ]
        },
        {
          "output_type": "stream",
          "name": "stderr",
          "text": [
            "4, aspects[aspect_pred]: 'overall'\n",
            "ic| ll: tensor(-11.5821, grad_fn=<SumBackward0>)\n",
            "ic| l2_regularization_loss: tensor(0.5607, grad_fn=<AddBackward0>)\n",
            "ic| loss: tensor(11.6382, grad_fn=<AddBackward0>)\n",
            "ic| vocab.lookup_tokens(sen_ids): ['i',\n",
            "                                   'too',\n",
            "                                   'would',\n",
            "                                   'not',\n",
            "                                   'believe',\n",
            "                                   'the',\n",
            "                                   '80+',\n",
            "                                   'ibus',\n",
            "                                   '-',\n",
            "                                   'i',\n",
            "                                   'found',\n",
            "                                   'this',\n",
            "                                   'one',\n",
            "                                   'to',\n",
            "                                   'have',\n",
            "                                   'a',\n",
            "                                   'very',\n",
            "                                   '"
          ]
        },
        {
          "output_type": "stream",
          "name": "stdout",
          "text": [
            "\n"
          ]
        },
        {
          "output_type": "stream",
          "name": "stderr",
          "text": [
            "light',\n",
            "                                   'bitterness',\n",
            "                                   'with',\n",
            "                                   'a',\n",
            "                                   'medium',\n",
            "                                   'sweetness',\n",
            "                                   'to',\n",
            "                                   'it']\n",
            "ic| aspect_pred: 4, aspects[aspect_pred]: 'overall'\n",
            "ic| ll: tensor(-20.6253, grad_fn=<SumBackward0>)\n",
            "ic| l2_regularization_loss: tensor(0.5607, grad_fn=<AddBackward0>)\n",
            "ic| loss: tensor(20.6814, grad_fn=<AddBackward0>)\n",
            "ic| vocab.lookup_tokens(sen_ids): ['light', 'lacing', 'left', 'on', 'the', 'glass']\n",
            "ic| aspect_pred: 3, aspects[aspect_pred]: 'taste'\n",
            "ic| ll: tensor(-3.2113, grad_fn=<SumBackward0>)\n"
          ]
        },
        {
          "output_type": "stream",
          "name": "stdout",
          "text": [
            "\n"
          ]
        },
        {
          "output_type": "stream",
          "name": "stderr",
          "text": [
            "ic| l2_regularization_loss: tensor(0.5607, grad_fn=<AddBackward0>)\n",
            "ic| loss: tensor(3.2674, grad_fn=<AddBackward0>)\n",
            "ic| vocab.lookup_tokens(sen_ids): ['on', 'tap', 'at', 'the', 'john', 'harvards', 'in', 'springfield', 'pa']\n",
            "ic| aspect_pred: 0, aspects[aspect_pred]: 'appearance'\n",
            "ic| vocab.lookup_tokens(sen_ids): ["
          ]
        },
        {
          "output_type": "stream",
          "name": "stdout",
          "text": [
            "\n",
            "1\n"
          ]
        },
        {
          "output_type": "stream",
          "name": "stderr",
          "text": [
            "'pours',\n",
            "                                   'a',\n",
            "                                   'ruby',\n",
            "                                   'red',\n",
            "                                   'amber',\n",
            "                                   'with',\n",
            "                                   'a',\n",
            "                                   'medium',\n",
            "                                   'off',\n",
            "                                   'whie',\n",
            "                                   'creamy',\n",
            "                                   'head',\n",
            "                                   'that',\n",
            "                                   'left',\n",
            "                                   'light',\n",
            "                                   'lacing']\n",
            "ic| aspect_pred: 0, aspects[aspect_pred]: 'appearance'\n",
            "ic| vocab.lookup_tokens(sen_ids): ['aroma', 'of', 'orange', 'and', 'various', 'other', 'citrus']\n",
            "ic| aspect_pred: 4, aspects[aspect_pred]: 'overall'\n",
            "ic| vocab.lookup_tokens(sen_ids): ['a',\n",
            "                                   'little',\n",
            "                                   'light',\n",
            "                                   'for',\n",
            "                                   'what',\n",
            "                                   'i',\n",
            "                                   'was',\n",
            "                                   'expecting',\n",
            "                                   'from',\n",
            "                                   'this',\n",
            "                                   'beers',\n",
            "                                   'aroma']\n",
            "ic| aspect_pred: 2, aspects[aspect_pred]: 'palate'\n",
            "ic| vocab.lookup_tokens(sen_ids): ['expecting', 'more', 'from', 'the', 'simcoe']\n",
            "ic| aspect_pred: 0, aspects[aspect_pred]: 'appearance'\n",
            "ic| vocab.lookup_tokens(sen_ids): ['flavor',\n",
            "                                   'of',\n",
            "                                   'pine',\n",
            "                                   ',',\n",
            "                                   'orange',\n",
            "                                   ',',\n",
            "                                   'grapefruit',\n",
            "                                   'and',\n",
            "                                   'some',\n",
            "                                   'malt',\n",
            "                                   'balance']\n",
            "ic| aspect_pred: 4, aspects[aspect_pred]: 'overall'\n",
            "ic| vocab.lookup_tokens(sen_ids): ['very',\n",
            "                                   'light',\n",
            "                                   'bitterness',\n",
            "                                   'for',\n",
            "                                   'the',\n",
            "                                   '80+',\n",
            "                                   'ibus',\n",
            "                                   'they',\n",
            "                                   'said',\n",
            "                                   'this',\n",
            "                                   'one',\n",
            "                                   'had']\n",
            "ic| aspect_pred: 4, aspects[aspect_pred]: 'overall'\n",
            "ic| vocab.lookup_tokens(sen_ids): ['updated', 'feb', '19', ',', '2003', 'springfield', ',', 'pa']\n",
            "ic| aspect_pred: 0, aspects[aspect_pred]: 'appearance'\n"
          ]
        },
        {
          "output_type": "stream",
          "name": "stdout",
          "text": [
            "2\n"
          ]
        },
        {
          "output_type": "stream",
          "name": "stderr",
          "text": [
            "ic| vocab.lookup_tokens(sen_ids): ['i',\n",
            "                                   \"'\",\n",
            "                                   've',\n",
            "                                   'never',\n",
            "                                   'had',\n",
            "                                   'the',\n",
            "                                   'budvar',\n",
            "                                   'cristal',\n",
            "                                   'but',\n",
            "                                   'this',\n",
            "                                   'is',\n",
            "                                   'exactly',\n",
            "                                   'what',\n",
            "                                   'i',\n",
            "                                   'imagined',\n",
            "                                   'it',\n",
            "                                   'to',\n",
            "                                   'be']\n",
            "ic| aspect_pred: 0, aspects[aspect_pred]: 'appearance'\n",
            "ic| vocab.lookup_tokens(sen_ids): ['a',\n",
            "                                   'clean',\n",
            "                                   'and',\n",
            "                                   'refreshing',\n",
            "                                   ',',\n",
            "                                   'hoppy',\n",
            "                                   'beer',\n",
            "                                   ',',\n",
            "                                   'med',\n",
            "                                   'bodied',\n",
            "                                   'with',\n",
            "                                   'plenty',\n",
            "                                   'of',\n",
            "                                   'flavor']\n",
            "ic| aspect_pred: 4, aspects[aspect_pred]: 'overall'\n",
            "ic| vocab.lookup_tokens(sen_ids): ['this',\n",
            "                                   'beer',\n",
            "                                   \"'\",\n",
            "                                   's',\n",
            "                                   'only',\n",
            "                                   'downfall',\n",
            "                                   'is',\n",
            "                                   'an',\n",
            "                                   'unpleasant',\n",
            "                                   'bitterness',\n",
            "                                   'in',\n",
            "                                   'the',\n",
            "                                   'aftertaste']\n",
            "ic| aspect_pred: 0, aspects[aspect_pred]: 'appearance'\n",
            "ic| vocab.lookup_tokens(sen_ids): ['on', 'tap', 'at', 'the', 'springfield', ',', 'pa', 'location']\n",
            "ic| aspect_pred: 0, aspects[aspect_pred]: 'appearance'\n",
            "ic| ll: tensor(-6.6299"
          ]
        },
        {
          "output_type": "stream",
          "name": "stdout",
          "text": [
            "0\n"
          ]
        },
        {
          "output_type": "stream",
          "name": "stderr",
          "text": [
            ", grad_fn=<SumBackward0>)\n",
            "ic| l2_regularization_loss: tensor(0.5607, grad_fn=<AddBackward0>)\n",
            "ic| loss: tensor(6.6860, grad_fn=<AddBackward0>)\n",
            "ic| vocab.lookup_tokens(sen_ids): ['poured',\n",
            "                                   'a',\n",
            "                                   'deep',\n",
            "                                   'and',\n",
            "                                   'cloudy',\n",
            "                                   'orange',\n",
            "                                   '(',\n",
            "                                   'almost',\n",
            "                                   'a',\n",
            "                                   'copper',\n",
            "                                   ')',\n",
            "                                   'color',\n",
            "                                   'with',\n",
            "                                   'a',\n",
            "                                   'small',\n",
            "                                   'sized',\n",
            "                                   'off',\n",
            "                                   'white',\n",
            "                                   'head']\n"
          ]
        },
        {
          "output_type": "stream",
          "name": "stdout",
          "text": [
            "\n"
          ]
        },
        {
          "output_type": "stream",
          "name": "stderr",
          "text": [
            "ic| aspect_pred: 0, aspects[aspect_pred]: 'appearance'\n",
            "ic| ll: tensor(-15.9430, grad_fn=<SumBackward0>)\n",
            "ic| l2_regularization_loss: tensor(0.5607, grad_fn=<AddBackward0>)\n",
            "ic| loss: tensor(15.9990, grad_fn=<AddBackward0>)\n",
            "ic| vocab.lookup_tokens(sen_ids): ['aromas', 'or', 'oranges', 'and', 'all', 'around', 'citric']\n",
            "ic| aspect_pred: 2, aspects[aspect_pred]: 'palate'\n",
            "ic| ll: tensor(-5.3477, grad_fn=<SumBackward0>)\n"
          ]
        },
        {
          "output_type": "stream",
          "name": "stdout",
          "text": [
            "\n"
          ]
        },
        {
          "output_type": "stream",
          "name": "stderr",
          "text": [
            "ic| l2_regularization_loss: tensor(0.5607, grad_fn=<AddBackward0>)\n",
            "ic| loss: tensor(5.4037, grad_fn=<AddBackward0>)\n",
            "ic| vocab.lookup_tokens(sen_ids): ['tastes',\n",
            "                                   'of',\n",
            "                                   'oranges',\n",
            "                                   ',',\n",
            "                                   'light',\n",
            "                                   'caramel',\n",
            "                                   'and',\n",
            "                                   'a',\n",
            "                                   'very',\n",
            "                                   'light',\n",
            "                                   'grapefruit',\n",
            "                                   'finish']\n",
            "ic"
          ]
        },
        {
          "output_type": "stream",
          "name": "stdout",
          "text": [
            "\n"
          ]
        },
        {
          "output_type": "stream",
          "name": "stderr",
          "text": [
            "| aspect_pred: 4, aspects[aspect_pred]: 'overall'\n",
            "ic| ll: tensor(-11.4010, grad_fn=<SumBackward0>)\n",
            "ic| l2_regularization_loss: tensor(0.5607, grad_fn=<AddBackward0>)\n",
            "ic| loss: tensor(11.4571, grad_fn=<AddBackward0>)\n",
            "ic| vocab.lookup_tokens(sen_ids): ['i',\n",
            "                                   'too',\n",
            "                                   'would',\n",
            "                                   'not',\n",
            "                                   'believe',\n",
            "                                   'the',\n",
            "                                   '80+',\n",
            "                                   'ibus',\n",
            "                                   '-',\n",
            "                                   'i',\n",
            "                                   'found',\n",
            "                                   'this',\n",
            "                                   'one',\n",
            "                                   'to',\n",
            "                                   'have',\n",
            "                                   '"
          ]
        },
        {
          "output_type": "stream",
          "name": "stdout",
          "text": [
            "\n"
          ]
        },
        {
          "output_type": "stream",
          "name": "stderr",
          "text": [
            "a',\n",
            "                                   'very',\n",
            "                                   'light',\n",
            "                                   'bitterness',\n",
            "                                   'with',\n",
            "                                   'a',\n",
            "                                   'medium',\n",
            "                                   'sweetness',\n",
            "                                   'to',\n",
            "                                   'it']\n",
            "ic| aspect_pred: 4, aspects[aspect_pred]: 'overall'\n",
            "ic| ll: tensor(-20.6211, grad_fn=<SumBackward0>)\n",
            "ic| l2_regularization_loss: tensor(0.5607, grad_fn=<AddBackward0>)\n",
            "ic| loss: tensor(20.6772, grad_fn=<AddBackward0>)\n",
            "ic| vocab.lookup_tokens(sen_ids): ['light', 'lacing', 'left', 'on', 'the', 'glass']\n",
            "ic| aspect_pred: 3, aspects[aspect_pred]: 'taste'\n",
            "ic| ll: tensor(-3.2111, grad_fn=<SumBackward0>)\n",
            "ic| l2_regularization_loss: tensor(0.5607, grad_fn=<AddBackward0"
          ]
        },
        {
          "output_type": "stream",
          "name": "stdout",
          "text": [
            "\n"
          ]
        },
        {
          "output_type": "stream",
          "name": "stderr",
          "text": [
            ">)\n",
            "ic| loss: tensor(3.2672, grad_fn=<AddBackward0>)\n",
            "ic| vocab.lookup_tokens(sen_ids): ['on', 'tap', 'at', 'the', 'john', 'harvards', 'in', 'springfield', 'pa']\n",
            "ic| aspect_pred: 0, aspects[aspect_pred]: 'appearance'\n",
            "ic| vocab.lookup_tokens(sen_ids): ['pours',\n",
            "                                   'a',\n",
            "                                   'ruby',\n",
            "                                   'red'"
          ]
        },
        {
          "output_type": "stream",
          "name": "stdout",
          "text": [
            "\n",
            "1\n"
          ]
        },
        {
          "output_type": "stream",
          "name": "stderr",
          "text": [
            ",\n",
            "                                   'amber',\n",
            "                                   'with',\n",
            "                                   'a',\n",
            "                                   'medium',\n",
            "                                   'off',\n",
            "                                   'whie',\n",
            "                                   'creamy',\n",
            "                                   'head',\n",
            "                                   'that',\n",
            "                                   'left',\n",
            "                                   'light',\n",
            "                                   'lacing']\n",
            "ic| aspect_pred: 0, aspects[aspect_pred]: 'appearance'\n",
            "ic| vocab.lookup_tokens(sen_ids): ['aroma', 'of', 'orange', 'and', 'various', 'other', 'citrus']\n",
            "ic| aspect_pred: 4, aspects[aspect_pred]: 'overall'\n",
            "ic| vocab.lookup_tokens(sen_ids): ['a',\n",
            "                                   'little',\n",
            "                                   'light',\n",
            "                                   'for',\n",
            "                                   'what',\n",
            "                                   'i',\n",
            "                                   'was',\n",
            "                                   'expecting',\n",
            "                                   'from',\n",
            "                                   'this',\n",
            "                                   'beers',\n",
            "                                   'aroma']\n",
            "ic| aspect_pred: 2, aspects[aspect_pred]: 'palate'\n",
            "ic| vocab.lookup_tokens(sen_ids): ['expecting', 'more', 'from', 'the', 'simcoe']\n",
            "ic| aspect_pred: 0, aspects[aspect_pred]: 'appearance'\n",
            "ic| vocab.lookup_tokens(sen_ids): ['flavor',\n",
            "                                   'of',\n",
            "                                   'pine',\n",
            "                                   ',',\n",
            "                                   'orange',\n",
            "                                   ',',\n",
            "                                   'grapefruit',\n",
            "                                   'and',\n",
            "                                   'some',\n",
            "                                   'malt',\n",
            "                                   'balance']\n",
            "ic| aspect_pred: 4, aspects[aspect_pred]: 'overall'\n",
            "ic| vocab.lookup_tokens(sen_ids): ['very',\n",
            "                                   'light',\n",
            "                                   'bitterness',\n",
            "                                   'for',\n",
            "                                   'the',\n",
            "                                   '80+',\n",
            "                                   'ibus',\n",
            "                                   'they',\n",
            "                                   'said',\n",
            "                                   'this',\n",
            "                                   'one',\n",
            "                                   'had']\n",
            "ic| aspect_pred: 4, aspects[aspect_pred]: 'overall'\n",
            "ic| vocab.lookup_tokens(sen_ids): ['updated', 'feb', '19', ',', '2003', 'springfield', ',', 'pa']\n",
            "ic| aspect_pred: 0, aspects[aspect_pred]: 'appearance'\n",
            "ic| vocab.lookup_tokens(sen_ids): ['i',\n",
            "                                   \"'\",\n",
            "                                   've',\n",
            "                                   "
          ]
        },
        {
          "output_type": "stream",
          "name": "stdout",
          "text": [
            "2\n"
          ]
        },
        {
          "output_type": "stream",
          "name": "stderr",
          "text": [
            "'never',\n",
            "                                   'had',\n",
            "                                   'the',\n",
            "                                   'budvar',\n",
            "                                   'cristal',\n",
            "                                   'but',\n",
            "                                   'this',\n",
            "                                   'is',\n",
            "                                   'exactly',\n",
            "                                   'what',\n",
            "                                   'i',\n",
            "                                   'imagined',\n",
            "                                   'it',\n",
            "                                   'to',\n",
            "                                   'be']\n",
            "ic| aspect_pred: 0, aspects[aspect_pred]: 'appearance'\n",
            "ic| vocab.lookup_tokens(sen_ids): ['a',\n",
            "                                   'clean',\n",
            "                                   'and',\n",
            "                                   'refreshing',\n",
            "                                   ',',\n",
            "                                   'hoppy',\n",
            "                                   'beer',\n",
            "                                   ',',\n",
            "                                   'med',\n",
            "                                   'bodied',\n",
            "                                   'with',\n",
            "                                   'plenty',\n",
            "                                   'of',\n",
            "                                   'flavor']\n",
            "ic| aspect_pred: 4, aspects[aspect_pred]: 'overall'\n",
            "ic| vocab.lookup_tokens(sen_ids): ['this',\n",
            "                                   'beer',\n",
            "                                   \"'\",\n",
            "                                   's',\n",
            "                                   'only',\n",
            "                                   'downfall',\n",
            "                                   'is',\n",
            "                                   'an',\n",
            "                                   'unpleasant',\n",
            "                                   'bitterness',\n",
            "                                   'in',\n",
            "                                   'the',\n",
            "                                   'aftertaste']\n",
            "ic| aspect_pred: 0, aspects[aspect_pred]: 'appearance'\n",
            "ic| vocab.lookup_tokens(sen_ids): ['on', 'tap', 'at', 'the', 'springfield', ',', 'pa', 'location']\n",
            "ic| aspect_pred: 0, aspects[aspect_pred]: 'appearance'\n",
            "ic| ll: tensor(-6.6285, grad_fn=<SumBackward0>)\n",
            "ic| l2_regularization_loss: tensor(0.5607"
          ]
        },
        {
          "output_type": "stream",
          "name": "stdout",
          "text": [
            "0\n"
          ]
        },
        {
          "output_type": "stream",
          "name": "stderr",
          "text": [
            ", grad_fn=<AddBackward0>)\n",
            "ic| loss: tensor(6.6846, grad_fn=<AddBackward0>)\n",
            "ic| vocab.lookup_tokens(sen_ids): ['poured',\n",
            "                                   'a',\n",
            "                                   'deep',\n",
            "                                   'and',\n",
            "                                   'cloudy',\n",
            "                                   'orange',\n",
            "                                   '(',\n",
            "                                   'almost',\n",
            "                                   'a',\n",
            "                                   'copper',\n",
            "                                   ')',\n",
            "                                   'color',\n",
            "                                   'with',\n",
            "                                   'a',\n",
            "                                   'small',\n",
            "                                   'sized',\n",
            "                                   'off',\n",
            "                                   'white',\n",
            "                                   'head']\n",
            "ic| aspect_pred: 0"
          ]
        },
        {
          "output_type": "stream",
          "name": "stdout",
          "text": [
            "\n"
          ]
        },
        {
          "output_type": "stream",
          "name": "stderr",
          "text": [
            ", aspects[aspect_pred]: 'appearance'\n",
            "ic| ll: tensor(-15.9298, grad_fn=<SumBackward0>)\n",
            "ic| l2_regularization_loss: tensor(0.5607, grad_fn=<AddBackward0>)\n",
            "ic| loss: tensor(15.9858, grad_fn=<AddBackward0>)\n",
            "ic| vocab.lookup_tokens(sen_ids): ['aromas', 'or', 'oranges', 'and', 'all', 'around', 'citric']\n",
            "ic| aspect_pred: 2, aspects[aspect_pred]: 'palate'\n",
            "ic| ll: "
          ]
        },
        {
          "output_type": "stream",
          "name": "stdout",
          "text": [
            "\n"
          ]
        },
        {
          "output_type": "stream",
          "name": "stderr",
          "text": [
            "tensor(-5.3471, grad_fn=<SumBackward0>)\n",
            "ic| l2_regularization_loss: tensor(0.5607, grad_fn=<AddBackward0>)\n",
            "ic| loss: tensor(5.4032, grad_fn=<AddBackward0>)\n",
            "ic| vocab.lookup_tokens(sen_ids): ['tastes',\n",
            "                                   'of',\n",
            "                                   'oranges',\n",
            "                                   ',',\n",
            "                                   'light',\n",
            "                                   'caramel',\n",
            "                                   'and',\n",
            "                                   'a',\n",
            "                                   'very',\n",
            "                                   'light',\n",
            "                                   'grapefruit',\n",
            "                                   'finish']\n",
            "ic| aspect_pred: 4, aspects[aspect_pred]: 'overall'\n"
          ]
        },
        {
          "output_type": "stream",
          "name": "stdout",
          "text": [
            "\n"
          ]
        },
        {
          "output_type": "stream",
          "name": "stderr",
          "text": [
            "ic| ll: tensor(-11.2708, grad_fn=<SumBackward0>)\n",
            "ic| l2_regularization_loss: tensor(0.5607, grad_fn=<AddBackward0>)\n",
            "ic| loss: tensor(11.3269, grad_fn=<AddBackward0>)\n",
            "ic| vocab.lookup_tokens(sen_ids): ['i',\n",
            "                                   'too',\n",
            "                                   'would',\n",
            "                                   'not',\n",
            "                                   'believe',\n",
            "                                   'the',\n",
            "                                   '80+',\n",
            "                                   'ibus',\n",
            "                                   '-',\n",
            "                                   'i',\n",
            "                                   'found',\n",
            "                                   'this',\n",
            "                                   'one',\n",
            "                                   'to',\n",
            "                                   'have'"
          ]
        },
        {
          "output_type": "stream",
          "name": "stdout",
          "text": [
            "\n"
          ]
        },
        {
          "output_type": "stream",
          "name": "stderr",
          "text": [
            ",\n",
            "                                   'a',\n",
            "                                   'very',\n",
            "                                   'light',\n",
            "                                   'bitterness',\n",
            "                                   'with',\n",
            "                                   'a',\n",
            "                                   'medium',\n",
            "                                   'sweetness',\n",
            "                                   'to',\n",
            "                                   'it']\n",
            "ic| aspect_pred: 4, aspects[aspect_pred]: 'overall'\n",
            "ic| ll: tensor(-20.6169, grad_fn=<SumBackward0>)\n",
            "ic| l2_regularization_loss: tensor(0.5607, grad_fn=<AddBackward0>)\n",
            "ic| loss: tensor(20.6729, grad_fn=<AddBackward0>)\n",
            "ic| vocab.lookup_tokens(sen_ids): ['light', 'lacing', 'left', 'on', 'the', 'glass']\n",
            "ic| aspect_pred: 3, aspects[aspect_pred]: 'taste'\n",
            "ic| ll: tensor(-3.2109, grad_fn=<SumBackward0>)\n",
            "ic| l2_regularization_loss: tensor("
          ]
        },
        {
          "output_type": "stream",
          "name": "stdout",
          "text": [
            "\n"
          ]
        },
        {
          "output_type": "stream",
          "name": "stderr",
          "text": [
            "0.5607, grad_fn=<AddBackward0>)\n",
            "ic| loss: tensor(3.2670, grad_fn=<AddBackward0>)\n",
            "ic| vocab.lookup_tokens(sen_ids): ['on', 'tap', 'at', 'the', 'john', 'harvards', 'in', 'springfield', 'pa']\n",
            "ic| aspect_pred: 0, aspects[aspect_pred]: 'appearance'\n",
            "ic| vocab.lookup_tokens(sen_ids): ["
          ]
        },
        {
          "output_type": "stream",
          "name": "stdout",
          "text": [
            "\n",
            "1\n"
          ]
        },
        {
          "output_type": "stream",
          "name": "stderr",
          "text": [
            "'pours',\n",
            "                                   'a',\n",
            "                                   'ruby',\n",
            "                                   'red',\n",
            "                                   'amber',\n",
            "                                   'with',\n",
            "                                   'a',\n",
            "                                   'medium',\n",
            "                                   'off',\n",
            "                                   'whie',\n",
            "                                   'creamy',\n",
            "                                   'head',\n",
            "                                   'that',\n",
            "                                   'left',\n",
            "                                   'light',\n",
            "                                   'lacing']\n",
            "ic| aspect_pred: 0, aspects[aspect_pred]: 'appearance'\n",
            "ic| vocab.lookup_tokens(sen_ids): ['aroma', 'of', 'orange', 'and', 'various', 'other', 'citrus']\n",
            "ic| aspect_pred: 4, aspects[aspect_pred]: 'overall'\n",
            "ic| vocab.lookup_tokens(sen_ids): ['a',\n",
            "                                   'little',\n",
            "                                   'light',\n",
            "                                   'for',\n",
            "                                   'what',\n",
            "                                   'i',\n",
            "                                   'was',\n",
            "                                   'expecting',\n",
            "                                   'from',\n",
            "                                   'this',\n",
            "                                   'beers',\n",
            "                                   'aroma']\n",
            "ic| aspect_pred: 2, aspects[aspect_pred]: 'palate'\n",
            "ic| vocab.lookup_tokens(sen_ids): ['expecting', 'more', 'from', 'the', 'simcoe']\n",
            "ic| aspect_pred: 0, aspects[aspect_pred]: 'appearance'\n",
            "ic| vocab.lookup_tokens(sen_ids): ['flavor',\n",
            "                                   'of',\n",
            "                                   'pine',\n",
            "                                   ',',\n",
            "                                   'orange',\n",
            "                                   ',',\n",
            "                                   'grapefruit',\n",
            "                                   'and',\n",
            "                                   'some',\n",
            "                                   'malt',\n",
            "                                   'balance']\n",
            "ic| aspect_pred: 4, aspects[aspect_pred]: 'overall'\n",
            "ic| vocab.lookup_tokens(sen_ids): ['very',\n",
            "                                   'light',\n",
            "                                   'bitterness',\n",
            "                                   'for',\n",
            "                                   'the',\n",
            "                                   '80+',\n",
            "                                   'ibus',\n",
            "                                   'they',\n",
            "                                   'said',\n",
            "                                   'this',\n",
            "                                   'one',\n",
            "                                   'had']\n",
            "ic| aspect_pred: 4, aspects[aspect_pred]: 'overall'\n",
            "ic| vocab.lookup_tokens(sen_ids): ['updated', 'feb', '19', ',', '2003', 'springfield', ',', 'pa']\n",
            "ic| aspect_pred: 0, aspects[aspect_pred]: 'appearance'\n",
            "ic| vocab.lookup_tokens(sen_ids): ['i',\n",
            "                                   \"'\",\n",
            "                                   've',"
          ]
        },
        {
          "output_type": "stream",
          "name": "stdout",
          "text": [
            "2\n"
          ]
        },
        {
          "output_type": "stream",
          "name": "stderr",
          "text": [
            "\n",
            "                                   'never',\n",
            "                                   'had',\n",
            "                                   'the',\n",
            "                                   'budvar',\n",
            "                                   'cristal',\n",
            "                                   'but',\n",
            "                                   'this',\n",
            "                                   'is',\n",
            "                                   'exactly',\n",
            "                                   'what',\n",
            "                                   'i',\n",
            "                                   'imagined',\n",
            "                                   'it',\n",
            "                                   'to',\n",
            "                                   'be']\n",
            "ic| aspect_pred: 0, aspects[aspect_pred]: 'appearance'\n",
            "ic| vocab.lookup_tokens(sen_ids): ['a',\n",
            "                                   'clean',\n",
            "                                   'and',\n",
            "                                   'refreshing',\n",
            "                                   ',',\n",
            "                                   'hoppy',\n",
            "                                   'beer',\n",
            "                                   ',',\n",
            "                                   'med',\n",
            "                                   'bodied',\n",
            "                                   'with',\n",
            "                                   'plenty',\n",
            "                                   'of',\n",
            "                                   'flavor']\n",
            "ic| aspect_pred: 4, aspects[aspect_pred]: 'overall'\n",
            "ic| vocab.lookup_tokens(sen_ids): ['this',\n",
            "                                   'beer',\n",
            "                                   \"'\",\n",
            "                                   's',\n",
            "                                   'only',\n",
            "                                   'downfall',\n",
            "                                   'is',\n",
            "                                   'an',\n",
            "                                   'unpleasant',\n",
            "                                   'bitterness',\n",
            "                                   'in',\n",
            "                                   'the',\n",
            "                                   'aftertaste']\n",
            "ic| aspect_pred: 0, aspects[aspect_pred]: 'appearance'\n",
            "ic| vocab.lookup_tokens(sen_ids): ['on', 'tap', 'at', 'the', 'springfield', ',', 'pa', 'location']\n",
            "ic| aspect_pred: 0, aspects[aspect_pred]: 'appearance'\n"
          ]
        },
        {
          "output_type": "stream",
          "name": "stdout",
          "text": [
            "0\n"
          ]
        },
        {
          "output_type": "stream",
          "name": "stderr",
          "text": [
            "ic| ll: tensor(-6.6270, grad_fn=<SumBackward0>)\n",
            "ic| l2_regularization_loss: tensor(0.5607, grad_fn=<AddBackward0>)\n",
            "ic| loss: tensor(6.6831, grad_fn=<AddBackward0>)\n",
            "ic| vocab.lookup_tokens(sen_ids): ['poured',\n",
            "                                   'a',\n",
            "                                   'deep',\n",
            "                                   'and',\n",
            "                                   'cloudy',\n",
            "                                   'orange',\n",
            "                                   '(',\n",
            "                                   'almost',\n",
            "                                   'a',\n",
            "                                   'copper',\n",
            "                                   ')',\n",
            "                                   'color',\n",
            "                                   'with',\n",
            "                                   'a',"
          ]
        },
        {
          "output_type": "stream",
          "name": "stdout",
          "text": [
            "\n"
          ]
        },
        {
          "output_type": "stream",
          "name": "stderr",
          "text": [
            "\n",
            "                                   'small',\n",
            "                                   'sized',\n",
            "                                   'off',\n",
            "                                   'white',\n",
            "                                   'head']\n",
            "ic| aspect_pred: 0, aspects[aspect_pred]: 'appearance'\n",
            "ic| ll: tensor(-15.9167, grad_fn=<SumBackward0>)\n",
            "ic| l2_regularization_loss: tensor(0.5607, grad_fn=<AddBackward0>)\n",
            "ic| loss: tensor(15.9728, grad_fn=<AddBackward0>)\n",
            "ic| vocab.lookup_tokens(sen_ids): ['aromas', 'or', 'oranges', 'and', 'all', 'around', 'citric']\n",
            "ic| aspect_pred: 2, aspects[aspect_pred]: 'palate'\n",
            "ic| ll: tensor(-5.3466, grad_fn=<SumBackward0>)\n"
          ]
        },
        {
          "output_type": "stream",
          "name": "stdout",
          "text": [
            "\n"
          ]
        },
        {
          "output_type": "stream",
          "name": "stderr",
          "text": [
            "ic| l2_regularization_loss: tensor(0.5607, grad_fn=<AddBackward0>)\n",
            "ic| loss: tensor(5.4027, grad_fn=<AddBackward0>)\n",
            "ic| vocab.lookup_tokens(sen_ids): ['tastes',\n",
            "                                   'of',\n",
            "                                   'oranges',\n",
            "                                   ',',\n",
            "                                   'light',\n",
            "                                   'caramel',\n",
            "                                   'and',\n",
            "                                   'a',\n",
            "                                   'very',\n",
            "                                   'light',\n",
            "                                   'grapefruit',\n",
            "                                   'finish']\n",
            "ic| aspect_pred: 4, aspects[aspect_pred]: 'overall'\n"
          ]
        },
        {
          "output_type": "stream",
          "name": "stdout",
          "text": [
            "\n"
          ]
        },
        {
          "output_type": "stream",
          "name": "stderr",
          "text": [
            "ic| ll: tensor(-11.1684, grad_fn=<SumBackward0>)\n",
            "ic| l2_regularization_loss: tensor(0.5607, grad_fn=<AddBackward0>)\n",
            "ic| loss: tensor(11.2245, grad_fn=<AddBackward0>)\n",
            "ic| vocab.lookup_tokens(sen_ids): ['i',\n",
            "                                   'too',\n",
            "                                   'would',\n",
            "                                   'not',\n",
            "                                   'believe',\n",
            "                                   'the',\n",
            "                                   '80+',\n",
            "                                   'ibus',\n",
            "                                   '-',\n",
            "                                   'i',\n",
            "                                   'found',\n",
            "                                   'this',\n",
            "                                   'one',\n",
            "                                   'to',\n",
            "                                   'have',\n",
            "                                   'a',\n",
            "                                   'very',\n",
            "                                   'light',\n",
            "                                   'bitterness',"
          ]
        },
        {
          "output_type": "stream",
          "name": "stdout",
          "text": [
            "\n"
          ]
        },
        {
          "output_type": "stream",
          "name": "stderr",
          "text": [
            "\n",
            "                                   'with',\n",
            "                                   'a',\n",
            "                                   'medium',\n",
            "                                   'sweetness',\n",
            "                                   'to',\n",
            "                                   'it']\n",
            "ic| aspect_pred: 4, aspects[aspect_pred]: 'overall'\n",
            "ic| ll: tensor(-20.6126, grad_fn=<SumBackward0>)\n",
            "ic| l2_regularization_loss: tensor(0.5607, grad_fn=<AddBackward0>)\n",
            "ic| loss: tensor(20.6687, grad_fn=<AddBackward0>)\n",
            "ic| vocab.lookup_tokens(sen_ids): ['light', 'lacing', 'left', 'on', 'the', 'glass']\n",
            "ic| aspect_pred: 3, aspects[aspect_pred]: 'taste'\n",
            "ic| ll: tensor(-3.2107, grad_fn=<SumBackward0>"
          ]
        },
        {
          "output_type": "stream",
          "name": "stdout",
          "text": [
            "\n"
          ]
        },
        {
          "output_type": "stream",
          "name": "stderr",
          "text": [
            ")\n",
            "ic| l2_regularization_loss: tensor(0.5607, grad_fn=<AddBackward0>)\n",
            "ic| loss: tensor(3.2668, grad_fn=<AddBackward0>)\n",
            "ic| vocab.lookup_tokens(sen_ids): ['on', 'tap', 'at', 'the', 'john', 'harvards', 'in', 'springfield', 'pa']\n",
            "ic| aspect_pred: 0, aspects[aspect_pred]: 'appearance'\n",
            "ic| vocab.lookup_tokens(sen_ids): ['pours',\n",
            "                                   'a',\n",
            "                                   'ruby',\n",
            "                                   'red',\n",
            "                                   'amber',\n",
            "                                   'with',\n"
          ]
        },
        {
          "output_type": "stream",
          "name": "stdout",
          "text": [
            "\n",
            "1\n"
          ]
        },
        {
          "output_type": "stream",
          "name": "stderr",
          "text": [
            "                                   'a',\n",
            "                                   'medium',\n",
            "                                   'off',\n",
            "                                   'whie',\n",
            "                                   'creamy',\n",
            "                                   'head',\n",
            "                                   'that',\n",
            "                                   'left',\n",
            "                                   'light',\n",
            "                                   'lacing']\n",
            "ic| aspect_pred: 0, aspects[aspect_pred]: 'appearance'\n",
            "ic| vocab.lookup_tokens(sen_ids): ['aroma', 'of', 'orange', 'and', 'various', 'other', 'citrus']\n",
            "ic| aspect_pred: 4, aspects[aspect_pred]: 'overall'\n",
            "ic| vocab.lookup_tokens(sen_ids): ['a',\n",
            "                                   'little',\n",
            "                                   'light',\n",
            "                                   'for',\n",
            "                                   'what',\n",
            "                                   'i',\n",
            "                                   'was',\n",
            "                                   'expecting',\n",
            "                                   'from',\n",
            "                                   'this',\n",
            "                                   'beers',\n",
            "                                   'aroma']\n",
            "ic| aspect_pred: 2, aspects[aspect_pred]: 'palate'\n",
            "ic| vocab.lookup_tokens(sen_ids): ['expecting', 'more', 'from', 'the', 'simcoe']\n",
            "ic| aspect_pred: 0, aspects[aspect_pred]: 'appearance'\n",
            "ic| vocab.lookup_tokens(sen_ids): ['flavor',\n",
            "                                   'of',\n",
            "                                   'pine',\n",
            "                                   ',',\n",
            "                                   'orange',\n",
            "                                   ',',\n",
            "                                   'grapefruit',\n",
            "                                   'and',\n",
            "                                   'some',\n",
            "                                   'malt',\n",
            "                                   'balance']\n",
            "ic| aspect_pred: 4, aspects[aspect_pred]: 'overall'\n",
            "ic| vocab.lookup_tokens(sen_ids): ['very',\n",
            "                                   'light',\n",
            "                                   'bitterness',\n",
            "                                   'for',\n",
            "                                   'the',\n",
            "                                   '80+',\n",
            "                                   'ibus',\n",
            "                                   'they',\n",
            "                                   'said',\n",
            "                                   'this',\n",
            "                                   'one',\n",
            "                                   'had']\n",
            "ic| aspect_pred: 4, aspects[aspect_pred]: 'overall'\n",
            "ic| vocab.lookup_tokens(sen_ids): ['updated', 'feb', '19', ',', '2003', 'springfield', ',', 'pa']\n",
            "ic| aspect_pred: 0, aspects[aspect_pred]: 'appearance'\n",
            "ic| vocab.lookup_tokens(sen_ids): ['i',\n",
            "                                   \"'\",\n",
            "                                   've',\n",
            "                                   'never',\n",
            "                                   'had',\n",
            "                                   'the',\n",
            "                                   '"
          ]
        },
        {
          "output_type": "stream",
          "name": "stdout",
          "text": [
            "2\n"
          ]
        },
        {
          "output_type": "stream",
          "name": "stderr",
          "text": [
            "budvar',\n",
            "                                   'cristal',\n",
            "                                   'but',\n",
            "                                   'this',\n",
            "                                   'is',\n",
            "                                   'exactly',\n",
            "                                   'what',\n",
            "                                   'i',\n",
            "                                   'imagined',\n",
            "                                   'it',\n",
            "                                   'to',\n",
            "                                   'be']\n",
            "ic| aspect_pred: 0, aspects[aspect_pred]: 'appearance'\n",
            "ic| vocab.lookup_tokens(sen_ids): ['a',\n",
            "                                   'clean',\n",
            "                                   'and',\n",
            "                                   'refreshing',\n",
            "                                   ',',\n",
            "                                   'hoppy',\n",
            "                                   'beer',\n",
            "                                   ',',\n",
            "                                   'med',\n",
            "                                   'bodied',\n",
            "                                   'with',\n",
            "                                   'plenty',\n",
            "                                   'of',\n",
            "                                   'flavor']\n",
            "ic| aspect_pred: 4, aspects[aspect_pred]: 'overall'\n",
            "ic| vocab.lookup_tokens(sen_ids): ['this',\n",
            "                                   'beer',\n",
            "                                   \"'\",\n",
            "                                   's',\n",
            "                                   'only',\n",
            "                                   'downfall',\n",
            "                                   'is',\n",
            "                                   'an',\n",
            "                                   'unpleasant',\n",
            "                                   'bitterness',\n",
            "                                   'in',\n",
            "                                   'the',\n",
            "                                   'aftertaste']\n",
            "ic| aspect_pred: 0, aspects[aspect_pred]: 'appearance'\n"
          ]
        }
      ]
    }
  ]
}