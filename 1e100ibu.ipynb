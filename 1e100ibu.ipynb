{
  "nbformat": 4,
  "nbformat_minor": 0,
  "metadata": {
    "colab": {
      "name": "1e100ibu-experiments.ipynb",
      "provenance": [],
      "collapsed_sections": [],
      "authorship_tag": "ABX9TyO2H1yjkemtyjSstKya7Ca8",
      "include_colab_link": true
    },
    "kernelspec": {
      "name": "python3",
      "display_name": "Python 3"
    },
    "language_info": {
      "name": "python"
    }
  },
  "cells": [
    {
      "cell_type": "markdown",
      "metadata": {
        "id": "view-in-github",
        "colab_type": "text"
      },
      "source": [
        "<a href=\"https://colab.research.google.com/github/madziejm/1e100-ibu/blob/master/1e100ibu.ipynb\" target=\"_parent\"><img src=\"https://colab.research.google.com/assets/colab-badge.svg\" alt=\"Open In Colab\"/></a>"
      ]
    },
    {
      "cell_type": "markdown",
      "source": [
        "#### Dependencies siorbing"
      ],
      "metadata": {
        "id": "CT48xPyXJHy9"
      }
    },
    {
      "cell_type": "code",
      "source": [
        "import torchtext\n",
        "import io\n",
        "from torchtext.vocab import build_vocab_from_iterator\n",
        "from torchtext.data import get_tokenizer\n",
        "\n",
        "import torch\n",
        "\n",
        "dev = 'cuda' if torch.cuda.is_available else 'cpu'"
      ],
      "metadata": {
        "id": "Sl9RJDTxJOTY"
      },
      "execution_count": 1,
      "outputs": []
    },
    {
      "cell_type": "markdown",
      "source": [
        "#### Dataset siorbing"
      ],
      "metadata": {
        "id": "JcpSzAJmFV56"
      }
    },
    {
      "cell_type": "code",
      "execution_count": 2,
      "metadata": {
        "colab": {
          "base_uri": "https://localhost:8080/"
        },
        "id": "TZ8cumFHEEQd",
        "outputId": "d9fa0dcc-1eb6-4a4f-c9b9-524aa6c0a60d"
      },
      "outputs": [
        {
          "output_type": "stream",
          "name": "stdout",
          "text": [
            "Downloading...\n",
            "From: https://drive.google.com/uc?id=12tEEYQcHZtg5aWyfIiWWVIDAJNT-5d_T\n",
            "To: /content/SNAP-Ratebeer.txt\n",
            "100% 1.74G/1.74G [00:12<00:00, 143MB/s]\n",
            "Dataset head (trailing newline makes entry end): \n",
            "beer/name: John Harvards Simcoe IPA\n",
            "beer/beerId: 63836\n",
            "beer/brewerId: 8481\n",
            "beer/ABV: 5.4\n",
            "beer/style: India Pale Ale &#40;IPA&#41;\n",
            "review/appearance: 4/5\n",
            "review/aroma: 6/10\n",
            "review/palate: 3/5\n",
            "review/taste: 6/10\n",
            "review/overall: 13/20\n",
            "review/time: 1157587200\n",
            "review/profileName: hopdog\n",
            "review/text: On tap at the Springfield, PA location. Poured a deep and cloudy orange (almost a copper) color with a small sized off white head. Aromas or oranges and all around citric. Tastes of oranges, light caramel and a very light grapefruit finish. I too would not believe the 80+ IBUs - I found this one to have a very light bitterness with a medium sweetness to it. Light lacing left on the glass.\n",
            "\n",
            "beer/name: John Harvards Simcoe IPA\n",
            "beer/beerId: 63836\n"
          ]
        }
      ],
      "source": [
        "RATEBEER_FILE = '/content/SNAP-Ratebeer.txt'\n",
        "! export RATEBEER_FILE='/content/SNAP-Ratebeer.txt'\n",
        "! [ -e $RATEBEER_FILE ] || gdown --id '12tEEYQcHZtg5aWyfIiWWVIDAJNT-5d_T' # https://drive.google.com/file/d/12tEEYQcHZtg5aWyfIiWWVIDAJNT-5d_T/view?usp=sharing\n",
        "! echo \"Dataset head (trailing newline makes entry end): \"\n",
        "! head -n 16 $RATEBEER_FILE\n",
        "! iconv -f ISO-8859-1 -t UTF-8 $RATEBEER_FILE -o {RATEBEER_FILE}.new && mv {RATEBEER_FILE}.new $RATEBEER_FILE"
      ]
    },
    {
      "cell_type": "markdown",
      "source": [
        "### Vocab representation"
      ],
      "metadata": {
        "id": "hAp1vxv0JBmy"
      }
    },
    {
      "cell_type": "code",
      "source": [
        "UNKNOWN_TOKEN = \"<unk>\"\n",
        "\n",
        "tokenizer = get_tokenizer('basic_english')\n",
        "def create_vocab(dataset_path):\n",
        "  def yield_tokens():\n",
        "    with io.open(dataset_path, encoding='utf-8') as f:\n",
        "      for line in f:\n",
        "        review_text_prefix = 'review/text: '\n",
        "        if line.startswith(review_text_prefix):\n",
        "          line = line[len(review_text_prefix):] # drop prefix\n",
        "          yield tokenizer(line) # TODO remove punctuation\n",
        "          # line = line.strip().lower().split() \n",
        "  vocab = build_vocab_from_iterator(yield_tokens(), specials=[UNKNOWN_TOKEN])\n",
        "  vocab.set_default_index(vocab[UNKNOWN_TOKEN])\n",
        "  return vocab"
      ],
      "metadata": {
        "id": "2W2kAaEJI_iI"
      },
      "execution_count": 3,
      "outputs": []
    },
    {
      "cell_type": "code",
      "source": [
        "vocab = create_vocab(RATEBEER_FILE)"
      ],
      "metadata": {
        "id": "LQJqC6WDcYyQ"
      },
      "execution_count": 4,
      "outputs": []
    },
    {
      "cell_type": "markdown",
      "source": [
        "##### Test `vocab`"
      ],
      "metadata": {
        "id": "JJkKGVlznDad"
      }
    },
    {
      "cell_type": "code",
      "source": [
        "review = 'On tap at the Springfield, PA location. Poured a deep and cloudy orange (almost a copper) color with a small sized off white head. Aromas or oranges and all around citric. Tastes of oranges, light caramel and a very light grapefruit finish. I too would not believe the 80+ IBUs - I found this one to have a very light bitterness with a medium sweetness to it. Light lacing left on the glass.'\n",
        "ided_review = vocab.lookup_indices(tokenizer(review))\n",
        "print(f'id-ed review: {ided_review}')\n",
        "word_count = len(vocab.get_itos())\n",
        "print(f'word count: {word_count}')\n",
        "print(f'most common words: {vocab.get_itos()[:30]}')\n",
        "# try whether we can get an id for unknown token (which will be probably 0 as it's index of unknown token)\n",
        "print(f'{vocab.lookup_indices([\"lubie\", \"hamburgefonsz\"])}')\n",
        "# TODO remove keep only n most common words"
      ],
      "metadata": {
        "colab": {
          "base_uri": "https://localhost:8080/"
        },
        "id": "CghoFLGMnHbF",
        "outputId": "033b8d02-ba8f-49a9-c298-269ff524a7d4"
      },
      "execution_count": 5,
      "outputs": [
        {
          "output_type": "stream",
          "name": "stdout",
          "text": [
            "id-ed review: [29, 123, 34, 5, 10719, 2, 2038, 1225, 1, 125, 3, 135, 4, 160, 75, 52, 138, 3, 183, 51, 45, 6, 3, 81, 398, 141, 32, 9, 1, 187, 139, 684, 4, 103, 315, 490, 1, 177, 7, 684, 2, 19, 39, 4, 3, 18, 19, 179, 26, 1, 15, 87, 145, 23, 923, 5, 47920, 1693, 79, 15, 488, 13, 65, 11, 107, 3, 18, 19, 70, 6, 3, 42, 95, 11, 16, 1, 19, 92, 392, 29, 5, 149, 1]\n",
            "word count: 641357\n",
            "most common words: ['<unk>', '.', ',', 'a', 'and', 'the', 'with', 'of', 'is', 'head', 'aroma', 'to', 'in', 'this', 'but', 'i', 'it', 'sweet', 'very', 'light', 'beer', 'some', 'flavor', 'not', 'malt', 'bottle', 'finish', 'nice', 'that', 'on']\n",
            "[0, 0]\n"
          ]
        }
      ]
    },
    {
      "cell_type": "markdown",
      "source": [
        "Test gradients"
      ],
      "metadata": {
        "id": "fxqV0tl4rnO3"
      }
    },
    {
      "cell_type": "code",
      "source": [
        "values = torch.tensor([1.0, 2.0, 3.0], requires_grad=True)\n",
        "l2_loss = values.square().sum()\n",
        "l2_loss.backward()\n",
        "print(values.grad)"
      ],
      "metadata": {
        "colab": {
          "base_uri": "https://localhost:8080/"
        },
        "id": "PG0oYrrgn9S7",
        "outputId": "d613e2ff-929c-4866-eda2-475c2c72c87e"
      },
      "execution_count": 6,
      "outputs": [
        {
          "output_type": "stream",
          "name": "stdout",
          "text": [
            "tensor([2., 4., 6.])\n"
          ]
        }
      ]
    },
    {
      "cell_type": "markdown",
      "source": [
        "## yyyy"
      ],
      "metadata": {
        "id": "7Wm7d-2lwgSq"
      }
    },
    {
      "cell_type": "code",
      "source": [
        "aspects = ['appearance', 'aroma', 'palate', 'taste', 'overall']\n",
        "aspect_count = len(aspects)"
      ],
      "metadata": {
        "id": "eUoc6febB8vQ"
      },
      "execution_count": 7,
      "outputs": []
    },
    {
      "cell_type": "code",
      "source": [
        "theta = torch.empty(word_count, aspect_count, requires_grad=True)\n",
        "with torch.no_grad():\n",
        "  torch.nn.init.kaiming_uniform_(theta)\n",
        "  # enforce 1 initialization on aspect name (page 4)\n",
        "  aspect_ids = vocab.lookup_indices(aspects)\n",
        "  theta[aspect_ids, :] = 1\n",
        "\n",
        "\n",
        "phi = torch.rand((word_count, aspect_count), requires_grad=True)\n",
        "with torch.no_grad():\n",
        "  # normalize that sum across all words is 1 for a given aspect (eq. 7)\n",
        "  phi = phi / phi.sum(dim=0)"
      ],
      "metadata": {
        "id": "VGjeZUFLsZ5e"
      },
      "execution_count": 39,
      "outputs": []
    },
    {
      "cell_type": "code",
      "source": [
        "def review_text2ids(review_text: str):\n",
        "  return vocab.lookup_indices(tokenizer(review_text))\n",
        "\n",
        "def review_text2weights(review_text: str):\n",
        "  ids = review_text2ids(review_text)\n",
        "  thetas = theta[ids]\n",
        "  phis   = phi[ids]\n",
        "  return thetas, phis\n",
        "\n",
        "def review_probability(review_text: str):\n",
        "  theta_weight, phi_weight = 1.0, 1.0\n",
        "  thetas, phis = review_text2weights(review_text)\n",
        "  return torch.mean(\n",
        "      theta_weight * thetas +\n",
        "      phi_weight * phis\n",
        "  )"
      ],
      "metadata": {
        "id": "qbpx6lSOwfkg"
      },
      "execution_count": 46,
      "outputs": []
    },
    {
      "cell_type": "code",
      "source": [
        "review_probability('Ich trinke Bier gern')"
      ],
      "metadata": {
        "colab": {
          "base_uri": "https://localhost:8080/"
        },
        "id": "-7FWEmRcxGuf",
        "outputId": "4bc513d2-d84d-4a4b-f35e-0201472a6a0d"
      },
      "execution_count": 47,
      "outputs": [
        {
          "output_type": "execute_result",
          "data": {
            "text/plain": [
              "tensor(0.0300, grad_fn=<MeanBackward0>)"
            ]
          },
          "metadata": {},
          "execution_count": 47
        }
      ]
    },
    {
      "cell_type": "code",
      "source": [
        "review_probability('Amazing hops and taste')"
      ],
      "metadata": {
        "colab": {
          "base_uri": "https://localhost:8080/"
        },
        "outputId": "e1e3b6ca-d2e3-4566-c6e9-172355605fa0",
        "id": "JEGHzhrmMea4"
      },
      "execution_count": 50,
      "outputs": [
        {
          "output_type": "execute_result",
          "data": {
            "text/plain": [
              "tensor(0.4446, grad_fn=<MeanBackward0>)"
            ]
          },
          "metadata": {},
          "execution_count": 50
        }
      ]
    },
    {
      "cell_type": "code",
      "source": [
        "review_probability('appearance aroma palate taste overall')"
      ],
      "metadata": {
        "colab": {
          "base_uri": "https://localhost:8080/"
        },
        "id": "HE-sIjQrLRvA",
        "outputId": "a5fe6778-ee42-4749-e7cc-cb468804de7f"
      },
      "execution_count": 48,
      "outputs": [
        {
          "output_type": "execute_result",
          "data": {
            "text/plain": [
              "tensor(1.0000, grad_fn=<MeanBackward0>)"
            ]
          },
          "metadata": {},
          "execution_count": 48
        }
      ]
    },
    {
      "cell_type": "code",
      "source": [
        "print(theta)"
      ],
      "metadata": {
        "colab": {
          "base_uri": "https://localhost:8080/"
        },
        "id": "MkkI6bVbLk0A",
        "outputId": "0a5a7dfb-bf9c-4abf-970b-aeff65f94321"
      },
      "execution_count": 33,
      "outputs": [
        {
          "output_type": "stream",
          "name": "stdout",
          "text": [
            "tensor([[-0.3340,  0.3367, -0.9189, -0.6612, -0.2976],\n",
            "        [ 0.0410,  0.4752,  0.4142,  0.0634,  1.0900],\n",
            "        [ 0.6639,  0.3962, -0.9144,  0.8693, -0.1799],\n",
            "        ...,\n",
            "        [-0.3180, -0.9306, -0.2156, -0.8973, -0.6841],\n",
            "        [-0.8311,  0.4176,  0.6423,  0.6981,  0.0203],\n",
            "        [ 0.7947, -0.3581, -0.7585, -0.2399,  0.4761]], requires_grad=True)\n"
          ]
        }
      ]
    },
    {
      "cell_type": "code",
      "source": [
        "vocab.lookup_indices(aspects)"
      ],
      "metadata": {
        "colab": {
          "base_uri": "https://localhost:8080/"
        },
        "id": "NU5p9ZeMLnz8",
        "outputId": "d6081735-579a-44e7-a17c-2cfe661b7e55"
      },
      "execution_count": 34,
      "outputs": [
        {
          "output_type": "execute_result",
          "data": {
            "text/plain": [
              "[201, 10, 90, 31, 137]"
            ]
          },
          "metadata": {},
          "execution_count": 34
        }
      ]
    },
    {
      "cell_type": "code",
      "source": [
        ""
      ],
      "metadata": {
        "id": "ClLM3hVCL96o"
      },
      "execution_count": null,
      "outputs": []
    }
  ]
}